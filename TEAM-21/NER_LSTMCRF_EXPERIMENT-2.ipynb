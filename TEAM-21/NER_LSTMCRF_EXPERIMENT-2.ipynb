{
  "nbformat": 4,
  "nbformat_minor": 0,
  "metadata": {
    "colab": {
      "name": "NER_LSTMCRF_WITH EXTRA DATA_1.ipynb",
      "provenance": [],
      "collapsed_sections": []
    },
    "kernelspec": {
      "display_name": "Python 3",
      "name": "python3"
    },
    "language_info": {
      "name": "python"
    }
  },
  "cells": [
    {
      "cell_type": "code",
      "metadata": {
        "colab": {
          "base_uri": "https://localhost:8080/"
        },
        "id": "CEkJH3xsz3HN",
        "outputId": "e1b381d1-0921-4b2d-de50-2478c7bd2dd7"
      },
      "source": [
        "from google.colab import drive\n",
        "drive.mount('/content/drive')"
      ],
      "execution_count": null,
      "outputs": [
        {
          "output_type": "stream",
          "text": [
            "Drive already mounted at /content/drive; to attempt to forcibly remount, call drive.mount(\"/content/drive\", force_remount=True).\n"
          ],
          "name": "stdout"
        }
      ]
    },
    {
      "cell_type": "code",
      "metadata": {
        "colab": {
          "base_uri": "https://localhost:8080/"
        },
        "id": "WiHvaj0yNQf8",
        "outputId": "20355bbb-3198-46b7-9ce4-fa7951cd2065"
      },
      "source": [
        "%cd \"/content/drive/MyDrive/NER_Telugu-master/lstmcrf\""
      ],
      "execution_count": null,
      "outputs": [
        {
          "output_type": "stream",
          "text": [
            "/content/drive/MyDrive/NER_Telugu-master/lstmcrf\n"
          ],
          "name": "stdout"
        }
      ]
    },
    {
      "cell_type": "code",
      "metadata": {
        "colab": {
          "base_uri": "https://localhost:8080/"
        },
        "id": "obSEyYCVNhwM",
        "outputId": "6b5c1d7e-4a79-40ee-c5e6-4d4b9789c81d"
      },
      "source": [
        "\n",
        "!python3 build_data.py"
      ],
      "execution_count": null,
      "outputs": [
        {
          "output_type": "stream",
          "text": [
            "Building vocab...\n",
            "- done. 15474 tokens\n",
            "{'B-PERSON', 'I-PERSON', 'B-LOC', 'I-LOC', 'I-ORG', 'I-MISC', 'B-MISC', 'B-ORG', 'O'}\n",
            "- done. 9 tags\n",
            "Building vocab...\n",
            "- done. 222582 tokens\n",
            "Writing vocab...\n",
            "- done. 11192 tokens\n",
            "Writing vocab...\n",
            "- done. 9 tokens\n",
            "Writing vocab...\n",
            "- done. 85 tokens\n"
          ],
          "name": "stdout"
        }
      ]
    },
    {
      "cell_type": "code",
      "metadata": {
        "id": "QNX6X6VFNlxJ"
      },
      "source": [
        "%tensorflow_version 1.x"
      ],
      "execution_count": null,
      "outputs": []
    },
    {
      "cell_type": "code",
      "metadata": {
        "colab": {
          "base_uri": "https://localhost:8080/"
        },
        "id": "5G2iN0KpcjJ2",
        "outputId": "15d2c22a-2016-45ab-93a0-024b376c69cb"
      },
      "source": [
        "!python3 train.py"
      ],
      "execution_count": null,
      "outputs": [
        {
          "output_type": "stream",
          "text": [
            "WARNING:tensorflow:From /tensorflow-1.15.2/python3.7/tensorflow_core/python/compat/v2_compat.py:68: disable_resource_variables (from tensorflow.python.ops.variable_scope) is deprecated and will be removed in a future version.\n",
            "Instructions for updating:\n",
            "non-resource variables are not supported in the long term\n",
            "WARNING:tensorflow:\n",
            "The TensorFlow contrib module will not be included in TensorFlow 2.0.\n",
            "For more information, please see:\n",
            "  * https://github.com/tensorflow/community/blob/master/rfcs/20180907-contrib-sunset.md\n",
            "  * https://github.com/tensorflow/addons\n",
            "  * https://github.com/tensorflow/io (for I/O related ops)\n",
            "If you depend on functionality not listed there, please file an issue.\n",
            "\n",
            "\n",
            "The TensorFlow contrib module will not be included in TensorFlow 2.0.\n",
            "For more information, please see:\n",
            "  * https://github.com/tensorflow/community/blob/master/rfcs/20180907-contrib-sunset.md\n",
            "  * https://github.com/tensorflow/addons\n",
            "  * https://github.com/tensorflow/io (for I/O related ops)\n",
            "If you depend on functionality not listed there, please file an issue.\n",
            "\n",
            "NumExpr defaulting to 2 threads.\n",
            "WARNING:tensorflow:From /content/drive/My Drive/NER_Telugu-master/lstmcrf/model/ner_model.py:139: LSTMCell.__init__ (from tensorflow.python.ops.rnn_cell_impl) is deprecated and will be removed in a future version.\n",
            "Instructions for updating:\n",
            "This class is equivalent as tf.keras.layers.LSTMCell, and will be replaced by that in Tensorflow 2.0.\n",
            "From /content/drive/My Drive/NER_Telugu-master/lstmcrf/model/ner_model.py:139: LSTMCell.__init__ (from tensorflow.python.ops.rnn_cell_impl) is deprecated and will be removed in a future version.\n",
            "Instructions for updating:\n",
            "This class is equivalent as tf.keras.layers.LSTMCell, and will be replaced by that in Tensorflow 2.0.\n",
            "WARNING:tensorflow:From /content/drive/My Drive/NER_Telugu-master/lstmcrf/model/ner_model.py:144: bidirectional_dynamic_rnn (from tensorflow.python.ops.rnn) is deprecated and will be removed in a future version.\n",
            "Instructions for updating:\n",
            "Please use `keras.layers.Bidirectional(keras.layers.RNN(cell))`, which is equivalent to this API\n",
            "From /content/drive/My Drive/NER_Telugu-master/lstmcrf/model/ner_model.py:144: bidirectional_dynamic_rnn (from tensorflow.python.ops.rnn) is deprecated and will be removed in a future version.\n",
            "Instructions for updating:\n",
            "Please use `keras.layers.Bidirectional(keras.layers.RNN(cell))`, which is equivalent to this API\n",
            "WARNING:tensorflow:From /tensorflow-1.15.2/python3.7/tensorflow_core/python/ops/rnn.py:464: dynamic_rnn (from tensorflow.python.ops.rnn) is deprecated and will be removed in a future version.\n",
            "Instructions for updating:\n",
            "Please use `keras.layers.RNN(cell)`, which is equivalent to this API\n",
            "From /tensorflow-1.15.2/python3.7/tensorflow_core/python/ops/rnn.py:464: dynamic_rnn (from tensorflow.python.ops.rnn) is deprecated and will be removed in a future version.\n",
            "Instructions for updating:\n",
            "Please use `keras.layers.RNN(cell)`, which is equivalent to this API\n",
            "WARNING:tensorflow:From /tensorflow-1.15.2/python3.7/tensorflow_core/python/ops/rnn_cell_impl.py:958: Layer.add_variable (from tensorflow.python.keras.engine.base_layer) is deprecated and will be removed in a future version.\n",
            "Instructions for updating:\n",
            "Please use `layer.add_weight` method instead.\n",
            "From /tensorflow-1.15.2/python3.7/tensorflow_core/python/ops/rnn_cell_impl.py:958: Layer.add_variable (from tensorflow.python.keras.engine.base_layer) is deprecated and will be removed in a future version.\n",
            "Instructions for updating:\n",
            "Please use `layer.add_weight` method instead.\n",
            "WARNING:tensorflow:From /tensorflow-1.15.2/python3.7/tensorflow_core/python/ops/rnn_cell_impl.py:962: calling Zeros.__init__ (from tensorflow.python.ops.init_ops) with dtype is deprecated and will be removed in a future version.\n",
            "Instructions for updating:\n",
            "Call initializer instance with the dtype argument instead of passing it to the constructor\n",
            "From /tensorflow-1.15.2/python3.7/tensorflow_core/python/ops/rnn_cell_impl.py:962: calling Zeros.__init__ (from tensorflow.python.ops.init_ops) with dtype is deprecated and will be removed in a future version.\n",
            "Instructions for updating:\n",
            "Call initializer instance with the dtype argument instead of passing it to the constructor\n",
            "WARNING:tensorflow:From /tensorflow-1.15.2/python3.7/tensorflow_core/python/ops/rnn.py:244: where (from tensorflow.python.ops.array_ops) is deprecated and will be removed in a future version.\n",
            "Instructions for updating:\n",
            "Use tf.where in 2.0, which has the same broadcast rule as np.where\n",
            "From /tensorflow-1.15.2/python3.7/tensorflow_core/python/ops/rnn.py:244: where (from tensorflow.python.ops.array_ops) is deprecated and will be removed in a future version.\n",
            "Instructions for updating:\n",
            "Use tf.where in 2.0, which has the same broadcast rule as np.where\n",
            "WARNING:tensorflow:From /content/drive/My Drive/NER_Telugu-master/lstmcrf/model/ner_model.py:155: calling dropout (from tensorflow.python.ops.nn_ops) with keep_prob is deprecated and will be removed in a future version.\n",
            "Instructions for updating:\n",
            "Please use `rate` instead of `keep_prob`. Rate should be set to `rate = 1 - keep_prob`.\n",
            "From /content/drive/My Drive/NER_Telugu-master/lstmcrf/model/ner_model.py:155: calling dropout (from tensorflow.python.ops.nn_ops) with keep_prob is deprecated and will be removed in a future version.\n",
            "Instructions for updating:\n",
            "Please use `rate` instead of `keep_prob`. Rate should be set to `rate = 1 - keep_prob`.\n",
            "WARNING:tensorflow:From /content/drive/My Drive/NER_Telugu-master/lstmcrf/model/ner_model.py:215: The name tf.summary.scalar is deprecated. Please use tf.compat.v1.summary.scalar instead.\n",
            "\n",
            "From /content/drive/My Drive/NER_Telugu-master/lstmcrf/model/ner_model.py:215: The name tf.summary.scalar is deprecated. Please use tf.compat.v1.summary.scalar instead.\n",
            "\n",
            "WARNING:tensorflow:From /content/drive/My Drive/NER_Telugu-master/lstmcrf/model/base_model.py:41: The name tf.variable_scope is deprecated. Please use tf.compat.v1.variable_scope instead.\n",
            "\n",
            "From /content/drive/My Drive/NER_Telugu-master/lstmcrf/model/base_model.py:41: The name tf.variable_scope is deprecated. Please use tf.compat.v1.variable_scope instead.\n",
            "\n",
            "WARNING:tensorflow:From /content/drive/My Drive/NER_Telugu-master/lstmcrf/model/base_model.py:43: The name tf.train.AdamOptimizer is deprecated. Please use tf.compat.v1.train.AdamOptimizer instead.\n",
            "\n",
            "From /content/drive/My Drive/NER_Telugu-master/lstmcrf/model/base_model.py:43: The name tf.train.AdamOptimizer is deprecated. Please use tf.compat.v1.train.AdamOptimizer instead.\n",
            "\n",
            "Initializing tf session\n",
            "WARNING:tensorflow:From /content/drive/My Drive/NER_Telugu-master/lstmcrf/model/base_model.py:64: The name tf.Session is deprecated. Please use tf.compat.v1.Session instead.\n",
            "\n",
            "From /content/drive/My Drive/NER_Telugu-master/lstmcrf/model/base_model.py:64: The name tf.Session is deprecated. Please use tf.compat.v1.Session instead.\n",
            "\n",
            "2021-06-19 09:20:58.418456: I tensorflow/stream_executor/platform/default/dso_loader.cc:44] Successfully opened dynamic library libcuda.so.1\n",
            "2021-06-19 09:20:58.430312: E tensorflow/stream_executor/cuda/cuda_driver.cc:318] failed call to cuInit: CUDA_ERROR_NO_DEVICE: no CUDA-capable device is detected\n",
            "2021-06-19 09:20:58.430372: I tensorflow/stream_executor/cuda/cuda_diagnostics.cc:156] kernel driver does not appear to be running on this host (17d0e7884faf): /proc/driver/nvidia/version does not exist\n",
            "2021-06-19 09:20:58.439101: I tensorflow/core/platform/profile_utils/cpu_utils.cc:94] CPU Frequency: 2299995000 Hz\n",
            "2021-06-19 09:20:58.439419: I tensorflow/compiler/xla/service/service.cc:168] XLA service 0x55f6dc752d80 initialized for platform Host (this does not guarantee that XLA will be used). Devices:\n",
            "2021-06-19 09:20:58.439461: I tensorflow/compiler/xla/service/service.cc:176]   StreamExecutor device (0): Host, Default Version\n",
            "WARNING:tensorflow:From /content/drive/My Drive/NER_Telugu-master/lstmcrf/model/base_model.py:65: The name tf.global_variables_initializer is deprecated. Please use tf.compat.v1.global_variables_initializer instead.\n",
            "\n",
            "From /content/drive/My Drive/NER_Telugu-master/lstmcrf/model/base_model.py:65: The name tf.global_variables_initializer is deprecated. Please use tf.compat.v1.global_variables_initializer instead.\n",
            "\n",
            "WARNING:tensorflow:From /content/drive/My Drive/NER_Telugu-master/lstmcrf/model/base_model.py:66: The name tf.train.Saver is deprecated. Please use tf.compat.v1.train.Saver instead.\n",
            "\n",
            "From /content/drive/My Drive/NER_Telugu-master/lstmcrf/model/base_model.py:66: The name tf.train.Saver is deprecated. Please use tf.compat.v1.train.Saver instead.\n",
            "\n",
            "WARNING:tensorflow:From /content/drive/My Drive/NER_Telugu-master/lstmcrf/model/base_model.py:100: The name tf.summary.merge_all is deprecated. Please use tf.compat.v1.summary.merge_all instead.\n",
            "\n",
            "From /content/drive/My Drive/NER_Telugu-master/lstmcrf/model/base_model.py:100: The name tf.summary.merge_all is deprecated. Please use tf.compat.v1.summary.merge_all instead.\n",
            "\n",
            "WARNING:tensorflow:From /content/drive/My Drive/NER_Telugu-master/lstmcrf/model/base_model.py:101: The name tf.summary.FileWriter is deprecated. Please use tf.compat.v1.summary.FileWriter instead.\n",
            "\n",
            "From /content/drive/My Drive/NER_Telugu-master/lstmcrf/model/base_model.py:101: The name tf.summary.FileWriter is deprecated. Please use tf.compat.v1.summary.FileWriter instead.\n",
            "\n",
            "Epoch 1 out of 20\n",
            "131/131 [==============================] - 110s - train loss: 7.6215   \n",
            "acc 93.11 - f1 69.25\n",
            "- new best score!\n",
            "Epoch 2 out of 20\n",
            "131/131 [==============================] - 110s - train loss: 3.3909   \n",
            "acc 95.33 - f1 80.08\n",
            "- new best score!\n",
            "Epoch 3 out of 20\n",
            "131/131 [==============================] - 110s - train loss: 2.7240   \n",
            "acc 96.06 - f1 82.92\n",
            "- new best score!\n",
            "Epoch 4 out of 20\n",
            "131/131 [==============================] - 112s - train loss: 2.3382   \n",
            "acc 96.44 - f1 84.94\n",
            "- new best score!\n",
            "Epoch 5 out of 20\n",
            "131/131 [==============================] - 109s - train loss: 2.1236   \n",
            "acc 96.92 - f1 86.68\n",
            "- new best score!\n",
            "Epoch 6 out of 20\n",
            "131/131 [==============================] - 109s - train loss: 1.8486   \n",
            "acc 97.47 - f1 88.96\n",
            "- new best score!\n",
            "Epoch 7 out of 20\n",
            "131/131 [==============================] - 110s - train loss: 1.6996   \n",
            "acc 97.95 - f1 90.91\n",
            "- new best score!\n",
            "Epoch 8 out of 20\n",
            "131/131 [==============================] - 112s - train loss: 1.5281   \n",
            "acc 98.29 - f1 92.24\n",
            "- new best score!\n",
            "Epoch 9 out of 20\n",
            "131/131 [==============================] - 110s - train loss: 1.3689   \n",
            "acc 98.48 - f1 93.10\n",
            "- new best score!\n",
            "Epoch 10 out of 20\n",
            "131/131 [==============================] - 111s - train loss: 1.2536   \n",
            "acc 98.69 - f1 94.05\n",
            "- new best score!\n",
            "Epoch 11 out of 20\n",
            "131/131 [==============================] - 110s - train loss: 1.1360   \n",
            "acc 98.87 - f1 94.81\n",
            "- new best score!\n",
            "Epoch 12 out of 20\n",
            "131/131 [==============================] - 111s - train loss: 1.0850   \n",
            "acc 99.04 - f1 95.52\n",
            "- new best score!\n",
            "Epoch 13 out of 20\n",
            "131/131 [==============================] - 110s - train loss: 1.0033   \n",
            "acc 99.10 - f1 95.82\n",
            "- new best score!\n",
            "Epoch 14 out of 20\n",
            "131/131 [==============================] - 111s - train loss: 0.9840   \n",
            "acc 99.23 - f1 96.27\n",
            "- new best score!\n",
            "Epoch 15 out of 20\n",
            "131/131 [==============================] - 110s - train loss: 0.8914   \n",
            "acc 99.32 - f1 96.62\n",
            "- new best score!\n",
            "Epoch 16 out of 20\n",
            "131/131 [==============================] - 109s - train loss: 0.8364   \n",
            "acc 99.41 - f1 97.01\n",
            "- new best score!\n",
            "Epoch 17 out of 20\n",
            "131/131 [==============================] - 113s - train loss: 0.7555   \n",
            "acc 99.48 - f1 97.33\n",
            "- new best score!\n",
            "Epoch 18 out of 20\n",
            "131/131 [==============================] - 114s - train loss: 0.7841   \n",
            "acc 99.55 - f1 97.74\n",
            "- new best score!\n",
            "Epoch 19 out of 20\n",
            "131/131 [==============================] - 109s - train loss: 0.7040   \n",
            "acc 99.58 - f1 97.82\n",
            "- new best score!\n",
            "Epoch 20 out of 20\n",
            "131/131 [==============================] - 112s - train loss: 0.6872   \n",
            "acc 99.62 - f1 98.03\n",
            "- new best score!\n"
          ],
          "name": "stdout"
        }
      ]
    },
    {
      "cell_type": "code",
      "metadata": {
        "colab": {
          "base_uri": "https://localhost:8080/"
        },
        "id": "u-7QQoWHTb_X",
        "outputId": "8ad28a36-e4fb-4e9e-a2e8-df0a460b3fe3"
      },
      "source": [
        "!python predict_test.py"
      ],
      "execution_count": null,
      "outputs": [
        {
          "output_type": "stream",
          "text": [
            "WARNING:tensorflow:From /tensorflow-1.15.2/python3.7/tensorflow_core/python/compat/v2_compat.py:68: disable_resource_variables (from tensorflow.python.ops.variable_scope) is deprecated and will be removed in a future version.\n",
            "Instructions for updating:\n",
            "non-resource variables are not supported in the long term\n",
            "WARNING:tensorflow:\n",
            "The TensorFlow contrib module will not be included in TensorFlow 2.0.\n",
            "For more information, please see:\n",
            "  * https://github.com/tensorflow/community/blob/master/rfcs/20180907-contrib-sunset.md\n",
            "  * https://github.com/tensorflow/addons\n",
            "  * https://github.com/tensorflow/io (for I/O related ops)\n",
            "If you depend on functionality not listed there, please file an issue.\n",
            "\n",
            "\n",
            "The TensorFlow contrib module will not be included in TensorFlow 2.0.\n",
            "For more information, please see:\n",
            "  * https://github.com/tensorflow/community/blob/master/rfcs/20180907-contrib-sunset.md\n",
            "  * https://github.com/tensorflow/addons\n",
            "  * https://github.com/tensorflow/io (for I/O related ops)\n",
            "If you depend on functionality not listed there, please file an issue.\n",
            "\n",
            "NumExpr defaulting to 2 threads.\n",
            "WARNING:tensorflow:From /content/drive/My Drive/NER_Telugu-master/lstmcrf/model/ner_model.py:139: LSTMCell.__init__ (from tensorflow.python.ops.rnn_cell_impl) is deprecated and will be removed in a future version.\n",
            "Instructions for updating:\n",
            "This class is equivalent as tf.keras.layers.LSTMCell, and will be replaced by that in Tensorflow 2.0.\n",
            "From /content/drive/My Drive/NER_Telugu-master/lstmcrf/model/ner_model.py:139: LSTMCell.__init__ (from tensorflow.python.ops.rnn_cell_impl) is deprecated and will be removed in a future version.\n",
            "Instructions for updating:\n",
            "This class is equivalent as tf.keras.layers.LSTMCell, and will be replaced by that in Tensorflow 2.0.\n",
            "WARNING:tensorflow:From /content/drive/My Drive/NER_Telugu-master/lstmcrf/model/ner_model.py:144: bidirectional_dynamic_rnn (from tensorflow.python.ops.rnn) is deprecated and will be removed in a future version.\n",
            "Instructions for updating:\n",
            "Please use `keras.layers.Bidirectional(keras.layers.RNN(cell))`, which is equivalent to this API\n",
            "From /content/drive/My Drive/NER_Telugu-master/lstmcrf/model/ner_model.py:144: bidirectional_dynamic_rnn (from tensorflow.python.ops.rnn) is deprecated and will be removed in a future version.\n",
            "Instructions for updating:\n",
            "Please use `keras.layers.Bidirectional(keras.layers.RNN(cell))`, which is equivalent to this API\n",
            "WARNING:tensorflow:From /tensorflow-1.15.2/python3.7/tensorflow_core/python/ops/rnn.py:464: dynamic_rnn (from tensorflow.python.ops.rnn) is deprecated and will be removed in a future version.\n",
            "Instructions for updating:\n",
            "Please use `keras.layers.RNN(cell)`, which is equivalent to this API\n",
            "From /tensorflow-1.15.2/python3.7/tensorflow_core/python/ops/rnn.py:464: dynamic_rnn (from tensorflow.python.ops.rnn) is deprecated and will be removed in a future version.\n",
            "Instructions for updating:\n",
            "Please use `keras.layers.RNN(cell)`, which is equivalent to this API\n",
            "WARNING:tensorflow:From /tensorflow-1.15.2/python3.7/tensorflow_core/python/ops/rnn_cell_impl.py:958: Layer.add_variable (from tensorflow.python.keras.engine.base_layer) is deprecated and will be removed in a future version.\n",
            "Instructions for updating:\n",
            "Please use `layer.add_weight` method instead.\n",
            "From /tensorflow-1.15.2/python3.7/tensorflow_core/python/ops/rnn_cell_impl.py:958: Layer.add_variable (from tensorflow.python.keras.engine.base_layer) is deprecated and will be removed in a future version.\n",
            "Instructions for updating:\n",
            "Please use `layer.add_weight` method instead.\n",
            "WARNING:tensorflow:From /tensorflow-1.15.2/python3.7/tensorflow_core/python/ops/rnn_cell_impl.py:962: calling Zeros.__init__ (from tensorflow.python.ops.init_ops) with dtype is deprecated and will be removed in a future version.\n",
            "Instructions for updating:\n",
            "Call initializer instance with the dtype argument instead of passing it to the constructor\n",
            "From /tensorflow-1.15.2/python3.7/tensorflow_core/python/ops/rnn_cell_impl.py:962: calling Zeros.__init__ (from tensorflow.python.ops.init_ops) with dtype is deprecated and will be removed in a future version.\n",
            "Instructions for updating:\n",
            "Call initializer instance with the dtype argument instead of passing it to the constructor\n",
            "WARNING:tensorflow:From /tensorflow-1.15.2/python3.7/tensorflow_core/python/ops/rnn.py:244: where (from tensorflow.python.ops.array_ops) is deprecated and will be removed in a future version.\n",
            "Instructions for updating:\n",
            "Use tf.where in 2.0, which has the same broadcast rule as np.where\n",
            "From /tensorflow-1.15.2/python3.7/tensorflow_core/python/ops/rnn.py:244: where (from tensorflow.python.ops.array_ops) is deprecated and will be removed in a future version.\n",
            "Instructions for updating:\n",
            "Use tf.where in 2.0, which has the same broadcast rule as np.where\n",
            "WARNING:tensorflow:From /content/drive/My Drive/NER_Telugu-master/lstmcrf/model/ner_model.py:155: calling dropout (from tensorflow.python.ops.nn_ops) with keep_prob is deprecated and will be removed in a future version.\n",
            "Instructions for updating:\n",
            "Please use `rate` instead of `keep_prob`. Rate should be set to `rate = 1 - keep_prob`.\n",
            "From /content/drive/My Drive/NER_Telugu-master/lstmcrf/model/ner_model.py:155: calling dropout (from tensorflow.python.ops.nn_ops) with keep_prob is deprecated and will be removed in a future version.\n",
            "Instructions for updating:\n",
            "Please use `rate` instead of `keep_prob`. Rate should be set to `rate = 1 - keep_prob`.\n",
            "WARNING:tensorflow:From /content/drive/My Drive/NER_Telugu-master/lstmcrf/model/ner_model.py:215: The name tf.summary.scalar is deprecated. Please use tf.compat.v1.summary.scalar instead.\n",
            "\n",
            "From /content/drive/My Drive/NER_Telugu-master/lstmcrf/model/ner_model.py:215: The name tf.summary.scalar is deprecated. Please use tf.compat.v1.summary.scalar instead.\n",
            "\n",
            "WARNING:tensorflow:From /content/drive/My Drive/NER_Telugu-master/lstmcrf/model/base_model.py:41: The name tf.variable_scope is deprecated. Please use tf.compat.v1.variable_scope instead.\n",
            "\n",
            "From /content/drive/My Drive/NER_Telugu-master/lstmcrf/model/base_model.py:41: The name tf.variable_scope is deprecated. Please use tf.compat.v1.variable_scope instead.\n",
            "\n",
            "WARNING:tensorflow:From /content/drive/My Drive/NER_Telugu-master/lstmcrf/model/base_model.py:43: The name tf.train.AdamOptimizer is deprecated. Please use tf.compat.v1.train.AdamOptimizer instead.\n",
            "\n",
            "From /content/drive/My Drive/NER_Telugu-master/lstmcrf/model/base_model.py:43: The name tf.train.AdamOptimizer is deprecated. Please use tf.compat.v1.train.AdamOptimizer instead.\n",
            "\n",
            "Initializing tf session\n",
            "WARNING:tensorflow:From /content/drive/My Drive/NER_Telugu-master/lstmcrf/model/base_model.py:64: The name tf.Session is deprecated. Please use tf.compat.v1.Session instead.\n",
            "\n",
            "From /content/drive/My Drive/NER_Telugu-master/lstmcrf/model/base_model.py:64: The name tf.Session is deprecated. Please use tf.compat.v1.Session instead.\n",
            "\n",
            "2021-06-19 10:07:36.969306: I tensorflow/stream_executor/platform/default/dso_loader.cc:44] Successfully opened dynamic library libcuda.so.1\n",
            "2021-06-19 10:07:36.981147: E tensorflow/stream_executor/cuda/cuda_driver.cc:318] failed call to cuInit: CUDA_ERROR_NO_DEVICE: no CUDA-capable device is detected\n",
            "2021-06-19 10:07:36.981213: I tensorflow/stream_executor/cuda/cuda_diagnostics.cc:156] kernel driver does not appear to be running on this host (17d0e7884faf): /proc/driver/nvidia/version does not exist\n",
            "2021-06-19 10:07:36.990370: I tensorflow/core/platform/profile_utils/cpu_utils.cc:94] CPU Frequency: 2299995000 Hz\n",
            "2021-06-19 10:07:36.990653: I tensorflow/compiler/xla/service/service.cc:168] XLA service 0x555af8712d80 initialized for platform Host (this does not guarantee that XLA will be used). Devices:\n",
            "2021-06-19 10:07:36.990688: I tensorflow/compiler/xla/service/service.cc:176]   StreamExecutor device (0): Host, Default Version\n",
            "WARNING:tensorflow:From /content/drive/My Drive/NER_Telugu-master/lstmcrf/model/base_model.py:65: The name tf.global_variables_initializer is deprecated. Please use tf.compat.v1.global_variables_initializer instead.\n",
            "\n",
            "From /content/drive/My Drive/NER_Telugu-master/lstmcrf/model/base_model.py:65: The name tf.global_variables_initializer is deprecated. Please use tf.compat.v1.global_variables_initializer instead.\n",
            "\n",
            "WARNING:tensorflow:From /content/drive/My Drive/NER_Telugu-master/lstmcrf/model/base_model.py:66: The name tf.train.Saver is deprecated. Please use tf.compat.v1.train.Saver instead.\n",
            "\n",
            "From /content/drive/My Drive/NER_Telugu-master/lstmcrf/model/base_model.py:66: The name tf.train.Saver is deprecated. Please use tf.compat.v1.train.Saver instead.\n",
            "\n",
            "Reloading the latest trained model...\n",
            "INFO:tensorflow:Restoring parameters from ../data/LSTM-CRF/checkpoints/9-no-dev/model.weights/\n",
            "Restoring parameters from ../data/LSTM-CRF/checkpoints/9-no-dev/model.weights/\n"
          ],
          "name": "stdout"
        }
      ]
    },
    {
      "cell_type": "code",
      "metadata": {
        "colab": {
          "base_uri": "https://localhost:8080/"
        },
        "id": "_QFZMJE6UvR7",
        "outputId": "ce6437cc-bb38-4e1e-ea6c-821c0152d1c9"
      },
      "source": [
        "!perl ../conll_evaluation/conlleval < ../data/LSTM-CRF/predictions/predictions_9-no-dev.txt"
      ],
      "execution_count": null,
      "outputs": [
        {
          "output_type": "stream",
          "text": [
            "processed 9812 tokens with 1293 phrases; found: 1223 phrases; correct: 1080.\n",
            "accuracy:  96.27%; precision:  88.31%; recall:  83.53%; FB1:  85.85\n",
            "              LOC: precision:  90.17%; recall:  86.52%; FB1:  88.31  356\n",
            "             MISC: precision:  94.46%; recall:  91.91%; FB1:  93.17  397\n",
            "              ORG: precision:  75.51%; recall:  69.38%; FB1:  72.31  147\n",
            "           PERSON: precision:  84.52%; recall:  77.12%; FB1:  80.65  323\n"
          ],
          "name": "stdout"
        }
      ]
    },
    {
      "cell_type": "code",
      "metadata": {
        "id": "4obtDTUkVroB"
      },
      "source": [
        ""
      ],
      "execution_count": null,
      "outputs": []
    }
  ]
}