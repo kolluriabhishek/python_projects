{
  "nbformat": 4,
  "nbformat_minor": 0,
  "metadata": {
    "colab": {
      "name": "NER_LSTMCRF.ipynb",
      "provenance": [],
      "collapsed_sections": []
    },
    "kernelspec": {
      "display_name": "Python 3",
      "name": "python3"
    },
    "language_info": {
      "name": "python"
    }
  },
  "cells": [
    {
      "cell_type": "code",
      "metadata": {
        "colab": {
          "base_uri": "https://localhost:8080/"
        },
        "id": "CEkJH3xsz3HN",
        "outputId": "82ba1120-3480-46db-a14a-5d2b8d48fed6"
      },
      "source": [
        "from google.colab import drive\n",
        "drive.mount('/content/drive')"
      ],
      "execution_count": null,
      "outputs": [
        {
          "output_type": "stream",
          "text": [
            "Drive already mounted at /content/drive; to attempt to forcibly remount, call drive.mount(\"/content/drive\", force_remount=True).\n"
          ],
          "name": "stdout"
        }
      ]
    },
    {
      "cell_type": "code",
      "metadata": {
        "colab": {
          "base_uri": "https://localhost:8080/"
        },
        "id": "WiHvaj0yNQf8",
        "outputId": "a0b27069-1043-4636-a5ce-c96bbfddcded"
      },
      "source": [
        "%cd \"/content/drive/MyDrive/NER_Telugu-master/lstmcrf\""
      ],
      "execution_count": null,
      "outputs": [
        {
          "output_type": "stream",
          "text": [
            "/content/drive/MyDrive/NER_Telugu-master/lstmcrf\n"
          ],
          "name": "stdout"
        }
      ]
    },
    {
      "cell_type": "code",
      "metadata": {
        "colab": {
          "base_uri": "https://localhost:8080/"
        },
        "id": "obSEyYCVNhwM",
        "outputId": "fb3a23f9-389d-45c1-e08a-7b3ba87f0ce5"
      },
      "source": [
        "\n",
        "!python3 build_data.py"
      ],
      "execution_count": null,
      "outputs": [
        {
          "output_type": "stream",
          "text": [
            "Building vocab...\n",
            "- done. 15474 tokens\n",
            "{'B-MISC', 'O', 'I-ORG', 'B-LOC', 'I-PERSON', 'I-MISC', 'I-LOC', 'B-ORG', 'B-PERSON'}\n",
            "- done. 9 tags\n",
            "Building vocab...\n",
            "- done. 222582 tokens\n",
            "Writing vocab...\n",
            "- done. 11192 tokens\n",
            "Writing vocab...\n",
            "- done. 9 tokens\n",
            "Writing vocab...\n",
            "- done. 85 tokens\n"
          ],
          "name": "stdout"
        }
      ]
    },
    {
      "cell_type": "code",
      "metadata": {
        "colab": {
          "base_uri": "https://localhost:8080/"
        },
        "id": "QNX6X6VFNlxJ",
        "outputId": "f9b6c5fd-f5e6-4dba-9e98-b1ccebb07028"
      },
      "source": [
        "%tensorflow_version 1.x"
      ],
      "execution_count": null,
      "outputs": [
        {
          "output_type": "stream",
          "text": [
            "TensorFlow 1.x selected.\n"
          ],
          "name": "stdout"
        }
      ]
    },
    {
      "cell_type": "code",
      "metadata": {
        "colab": {
          "background_save": true,
          "base_uri": "https://localhost:8080/"
        },
        "id": "5G2iN0KpcjJ2",
        "outputId": "08197bf5-0f12-4ed4-b5c4-17ffe5b8ff88"
      },
      "source": [
        "!python3 train.py"
      ],
      "execution_count": null,
      "outputs": [
        {
          "output_type": "stream",
          "text": [
            "WARNING:tensorflow:From /tensorflow-1.15.2/python3.7/tensorflow_core/python/compat/v2_compat.py:68: disable_resource_variables (from tensorflow.python.ops.variable_scope) is deprecated and will be removed in a future version.\n",
            "Instructions for updating:\n",
            "non-resource variables are not supported in the long term\n",
            "WARNING:tensorflow:\n",
            "The TensorFlow contrib module will not be included in TensorFlow 2.0.\n",
            "For more information, please see:\n",
            "  * https://github.com/tensorflow/community/blob/master/rfcs/20180907-contrib-sunset.md\n",
            "  * https://github.com/tensorflow/addons\n",
            "  * https://github.com/tensorflow/io (for I/O related ops)\n",
            "If you depend on functionality not listed there, please file an issue.\n",
            "\n",
            "\n",
            "The TensorFlow contrib module will not be included in TensorFlow 2.0.\n",
            "For more information, please see:\n",
            "  * https://github.com/tensorflow/community/blob/master/rfcs/20180907-contrib-sunset.md\n",
            "  * https://github.com/tensorflow/addons\n",
            "  * https://github.com/tensorflow/io (for I/O related ops)\n",
            "If you depend on functionality not listed there, please file an issue.\n",
            "\n",
            "NumExpr defaulting to 2 threads.\n",
            "WARNING:tensorflow:From /content/drive/My Drive/NER_Telugu-master/lstmcrf/model/ner_model.py:139: LSTMCell.__init__ (from tensorflow.python.ops.rnn_cell_impl) is deprecated and will be removed in a future version.\n",
            "Instructions for updating:\n",
            "This class is equivalent as tf.keras.layers.LSTMCell, and will be replaced by that in Tensorflow 2.0.\n",
            "From /content/drive/My Drive/NER_Telugu-master/lstmcrf/model/ner_model.py:139: LSTMCell.__init__ (from tensorflow.python.ops.rnn_cell_impl) is deprecated and will be removed in a future version.\n",
            "Instructions for updating:\n",
            "This class is equivalent as tf.keras.layers.LSTMCell, and will be replaced by that in Tensorflow 2.0.\n",
            "WARNING:tensorflow:From /content/drive/My Drive/NER_Telugu-master/lstmcrf/model/ner_model.py:144: bidirectional_dynamic_rnn (from tensorflow.python.ops.rnn) is deprecated and will be removed in a future version.\n",
            "Instructions for updating:\n",
            "Please use `keras.layers.Bidirectional(keras.layers.RNN(cell))`, which is equivalent to this API\n",
            "From /content/drive/My Drive/NER_Telugu-master/lstmcrf/model/ner_model.py:144: bidirectional_dynamic_rnn (from tensorflow.python.ops.rnn) is deprecated and will be removed in a future version.\n",
            "Instructions for updating:\n",
            "Please use `keras.layers.Bidirectional(keras.layers.RNN(cell))`, which is equivalent to this API\n",
            "WARNING:tensorflow:From /tensorflow-1.15.2/python3.7/tensorflow_core/python/ops/rnn.py:464: dynamic_rnn (from tensorflow.python.ops.rnn) is deprecated and will be removed in a future version.\n",
            "Instructions for updating:\n",
            "Please use `keras.layers.RNN(cell)`, which is equivalent to this API\n",
            "From /tensorflow-1.15.2/python3.7/tensorflow_core/python/ops/rnn.py:464: dynamic_rnn (from tensorflow.python.ops.rnn) is deprecated and will be removed in a future version.\n",
            "Instructions for updating:\n",
            "Please use `keras.layers.RNN(cell)`, which is equivalent to this API\n",
            "WARNING:tensorflow:From /tensorflow-1.15.2/python3.7/tensorflow_core/python/ops/rnn_cell_impl.py:958: Layer.add_variable (from tensorflow.python.keras.engine.base_layer) is deprecated and will be removed in a future version.\n",
            "Instructions for updating:\n",
            "Please use `layer.add_weight` method instead.\n",
            "From /tensorflow-1.15.2/python3.7/tensorflow_core/python/ops/rnn_cell_impl.py:958: Layer.add_variable (from tensorflow.python.keras.engine.base_layer) is deprecated and will be removed in a future version.\n",
            "Instructions for updating:\n",
            "Please use `layer.add_weight` method instead.\n",
            "WARNING:tensorflow:From /tensorflow-1.15.2/python3.7/tensorflow_core/python/ops/rnn_cell_impl.py:962: calling Zeros.__init__ (from tensorflow.python.ops.init_ops) with dtype is deprecated and will be removed in a future version.\n",
            "Instructions for updating:\n",
            "Call initializer instance with the dtype argument instead of passing it to the constructor\n",
            "From /tensorflow-1.15.2/python3.7/tensorflow_core/python/ops/rnn_cell_impl.py:962: calling Zeros.__init__ (from tensorflow.python.ops.init_ops) with dtype is deprecated and will be removed in a future version.\n",
            "Instructions for updating:\n",
            "Call initializer instance with the dtype argument instead of passing it to the constructor\n",
            "WARNING:tensorflow:From /tensorflow-1.15.2/python3.7/tensorflow_core/python/ops/rnn.py:244: where (from tensorflow.python.ops.array_ops) is deprecated and will be removed in a future version.\n",
            "Instructions for updating:\n",
            "Use tf.where in 2.0, which has the same broadcast rule as np.where\n",
            "From /tensorflow-1.15.2/python3.7/tensorflow_core/python/ops/rnn.py:244: where (from tensorflow.python.ops.array_ops) is deprecated and will be removed in a future version.\n",
            "Instructions for updating:\n",
            "Use tf.where in 2.0, which has the same broadcast rule as np.where\n",
            "WARNING:tensorflow:From /content/drive/My Drive/NER_Telugu-master/lstmcrf/model/ner_model.py:155: calling dropout (from tensorflow.python.ops.nn_ops) with keep_prob is deprecated and will be removed in a future version.\n",
            "Instructions for updating:\n",
            "Please use `rate` instead of `keep_prob`. Rate should be set to `rate = 1 - keep_prob`.\n",
            "From /content/drive/My Drive/NER_Telugu-master/lstmcrf/model/ner_model.py:155: calling dropout (from tensorflow.python.ops.nn_ops) with keep_prob is deprecated and will be removed in a future version.\n",
            "Instructions for updating:\n",
            "Please use `rate` instead of `keep_prob`. Rate should be set to `rate = 1 - keep_prob`.\n",
            "WARNING:tensorflow:From /content/drive/My Drive/NER_Telugu-master/lstmcrf/model/ner_model.py:215: The name tf.summary.scalar is deprecated. Please use tf.compat.v1.summary.scalar instead.\n",
            "\n",
            "From /content/drive/My Drive/NER_Telugu-master/lstmcrf/model/ner_model.py:215: The name tf.summary.scalar is deprecated. Please use tf.compat.v1.summary.scalar instead.\n",
            "\n",
            "WARNING:tensorflow:From /content/drive/My Drive/NER_Telugu-master/lstmcrf/model/base_model.py:41: The name tf.variable_scope is deprecated. Please use tf.compat.v1.variable_scope instead.\n",
            "\n",
            "From /content/drive/My Drive/NER_Telugu-master/lstmcrf/model/base_model.py:41: The name tf.variable_scope is deprecated. Please use tf.compat.v1.variable_scope instead.\n",
            "\n",
            "WARNING:tensorflow:From /content/drive/My Drive/NER_Telugu-master/lstmcrf/model/base_model.py:43: The name tf.train.AdamOptimizer is deprecated. Please use tf.compat.v1.train.AdamOptimizer instead.\n",
            "\n",
            "From /content/drive/My Drive/NER_Telugu-master/lstmcrf/model/base_model.py:43: The name tf.train.AdamOptimizer is deprecated. Please use tf.compat.v1.train.AdamOptimizer instead.\n",
            "\n",
            "Initializing tf session\n",
            "WARNING:tensorflow:From /content/drive/My Drive/NER_Telugu-master/lstmcrf/model/base_model.py:64: The name tf.Session is deprecated. Please use tf.compat.v1.Session instead.\n",
            "\n",
            "From /content/drive/My Drive/NER_Telugu-master/lstmcrf/model/base_model.py:64: The name tf.Session is deprecated. Please use tf.compat.v1.Session instead.\n",
            "\n",
            "2021-06-15 09:13:58.352303: I tensorflow/stream_executor/platform/default/dso_loader.cc:44] Successfully opened dynamic library libcuda.so.1\n",
            "2021-06-15 09:13:58.435830: E tensorflow/stream_executor/cuda/cuda_driver.cc:318] failed call to cuInit: CUDA_ERROR_NO_DEVICE: no CUDA-capable device is detected\n",
            "2021-06-15 09:13:58.435892: I tensorflow/stream_executor/cuda/cuda_diagnostics.cc:156] kernel driver does not appear to be running on this host (4668052790a8): /proc/driver/nvidia/version does not exist\n",
            "2021-06-15 09:13:58.458744: I tensorflow/core/platform/profile_utils/cpu_utils.cc:94] CPU Frequency: 2299995000 Hz\n",
            "2021-06-15 09:13:58.459094: I tensorflow/compiler/xla/service/service.cc:168] XLA service 0x55dbe81bcd80 initialized for platform Host (this does not guarantee that XLA will be used). Devices:\n",
            "2021-06-15 09:13:58.459142: I tensorflow/compiler/xla/service/service.cc:176]   StreamExecutor device (0): Host, Default Version\n",
            "WARNING:tensorflow:From /content/drive/My Drive/NER_Telugu-master/lstmcrf/model/base_model.py:65: The name tf.global_variables_initializer is deprecated. Please use tf.compat.v1.global_variables_initializer instead.\n",
            "\n",
            "From /content/drive/My Drive/NER_Telugu-master/lstmcrf/model/base_model.py:65: The name tf.global_variables_initializer is deprecated. Please use tf.compat.v1.global_variables_initializer instead.\n",
            "\n",
            "WARNING:tensorflow:From /content/drive/My Drive/NER_Telugu-master/lstmcrf/model/base_model.py:66: The name tf.train.Saver is deprecated. Please use tf.compat.v1.train.Saver instead.\n",
            "\n",
            "From /content/drive/My Drive/NER_Telugu-master/lstmcrf/model/base_model.py:66: The name tf.train.Saver is deprecated. Please use tf.compat.v1.train.Saver instead.\n",
            "\n",
            "WARNING:tensorflow:From /content/drive/My Drive/NER_Telugu-master/lstmcrf/model/base_model.py:100: The name tf.summary.merge_all is deprecated. Please use tf.compat.v1.summary.merge_all instead.\n",
            "\n",
            "From /content/drive/My Drive/NER_Telugu-master/lstmcrf/model/base_model.py:100: The name tf.summary.merge_all is deprecated. Please use tf.compat.v1.summary.merge_all instead.\n",
            "\n",
            "WARNING:tensorflow:From /content/drive/My Drive/NER_Telugu-master/lstmcrf/model/base_model.py:101: The name tf.summary.FileWriter is deprecated. Please use tf.compat.v1.summary.FileWriter instead.\n",
            "\n",
            "From /content/drive/My Drive/NER_Telugu-master/lstmcrf/model/base_model.py:101: The name tf.summary.FileWriter is deprecated. Please use tf.compat.v1.summary.FileWriter instead.\n",
            "\n",
            "Epoch 1 out of 20\n",
            "131/131 [==============================] - 83s - train loss: 7.7583    \n",
            "acc 93.20 - f1 69.58\n",
            "- new best score!\n",
            "Epoch 2 out of 20\n",
            "131/131 [==============================] - 82s - train loss: 3.5326    \n",
            "acc 95.10 - f1 78.58\n",
            "- new best score!\n",
            "Epoch 3 out of 20\n",
            "131/131 [==============================] - 79s - train loss: 2.8680    \n",
            "acc 95.75 - f1 81.70\n",
            "- new best score!\n",
            "Epoch 4 out of 20\n",
            "131/131 [==============================] - 82s - train loss: 2.4271    \n",
            "acc 96.44 - f1 84.48\n",
            "- new best score!\n",
            "Epoch 5 out of 20\n",
            "131/131 [==============================] - 80s - train loss: 2.1713    \n",
            "acc 96.65 - f1 85.70\n",
            "- new best score!\n",
            "Epoch 6 out of 20\n",
            "131/131 [==============================] - 80s - train loss: 1.9304    \n",
            "acc 97.33 - f1 88.13\n",
            "- new best score!\n",
            "Epoch 7 out of 20\n",
            "131/131 [==============================] - 82s - train loss: 1.7577    \n",
            "acc 97.86 - f1 90.09\n",
            "- new best score!\n",
            "Epoch 8 out of 20\n",
            "131/131 [==============================] - 82s - train loss: 1.5425    \n",
            "acc 98.07 - f1 90.91\n",
            "- new best score!\n",
            "Epoch 9 out of 20\n",
            "131/131 [==============================] - 82s - train loss: 1.5138    \n",
            "acc 98.41 - f1 92.48\n",
            "- new best score!\n",
            "Epoch 10 out of 20\n",
            "131/131 [==============================] - 82s - train loss: 1.3157    \n",
            "acc 98.60 - f1 93.46\n",
            "- new best score!\n",
            "Epoch 11 out of 20\n",
            "131/131 [==============================] - 82s - train loss: 1.2151    \n",
            "acc 98.74 - f1 94.01\n",
            "- new best score!\n",
            "Epoch 12 out of 20\n",
            "131/131 [==============================] - 80s - train loss: 1.1549    \n",
            "acc 98.95 - f1 94.85\n",
            "- new best score!\n",
            "Epoch 13 out of 20\n",
            "131/131 [==============================] - 82s - train loss: 1.0405    \n",
            "acc 99.06 - f1 95.45\n",
            "- new best score!\n",
            "Epoch 14 out of 20\n",
            "131/131 [==============================] - 82s - train loss: 0.9874    \n",
            "acc 99.19 - f1 96.09\n",
            "- new best score!\n",
            "Epoch 15 out of 20\n",
            "131/131 [==============================] - 83s - train loss: 0.9230    \n",
            "acc 99.30 - f1 96.55\n",
            "- new best score!\n",
            "Epoch 16 out of 20\n",
            "131/131 [==============================] - 81s - train loss: 0.9066    \n",
            "acc 99.35 - f1 96.69\n",
            "- new best score!\n",
            "Epoch 17 out of 20\n",
            "131/131 [==============================] - 81s - train loss: 0.8482    \n",
            "acc 99.34 - f1 96.76\n",
            "- new best score!\n",
            "Epoch 18 out of 20\n",
            "131/131 [==============================] - 81s - train loss: 0.8086    \n",
            "acc 99.44 - f1 97.14\n",
            "- new best score!\n",
            "Epoch 19 out of 20\n",
            "131/131 [==============================] - 80s - train loss: 0.7457    \n",
            "acc 99.52 - f1 97.61\n",
            "- new best score!\n",
            "Epoch 20 out of 20\n",
            "131/131 [==============================] - 80s - train loss: 0.7440    \n",
            "acc 99.51 - f1 97.59\n"
          ],
          "name": "stdout"
        }
      ]
    },
    {
      "cell_type": "code",
      "metadata": {
        "colab": {
          "base_uri": "https://localhost:8080/"
        },
        "id": "u-7QQoWHTb_X",
        "outputId": "b00340bd-4fee-4630-8d03-19d441798ebd"
      },
      "source": [
        "!python predict_test.py"
      ],
      "execution_count": null,
      "outputs": [
        {
          "output_type": "stream",
          "text": [
            "WARNING:tensorflow:From /tensorflow-1.15.2/python3.7/tensorflow_core/python/compat/v2_compat.py:68: disable_resource_variables (from tensorflow.python.ops.variable_scope) is deprecated and will be removed in a future version.\n",
            "Instructions for updating:\n",
            "non-resource variables are not supported in the long term\n",
            "WARNING:tensorflow:\n",
            "The TensorFlow contrib module will not be included in TensorFlow 2.0.\n",
            "For more information, please see:\n",
            "  * https://github.com/tensorflow/community/blob/master/rfcs/20180907-contrib-sunset.md\n",
            "  * https://github.com/tensorflow/addons\n",
            "  * https://github.com/tensorflow/io (for I/O related ops)\n",
            "If you depend on functionality not listed there, please file an issue.\n",
            "\n",
            "\n",
            "The TensorFlow contrib module will not be included in TensorFlow 2.0.\n",
            "For more information, please see:\n",
            "  * https://github.com/tensorflow/community/blob/master/rfcs/20180907-contrib-sunset.md\n",
            "  * https://github.com/tensorflow/addons\n",
            "  * https://github.com/tensorflow/io (for I/O related ops)\n",
            "If you depend on functionality not listed there, please file an issue.\n",
            "\n",
            "NumExpr defaulting to 2 threads.\n",
            "WARNING:tensorflow:From /content/drive/My Drive/NER_Telugu-master/lstmcrf/model/ner_model.py:139: LSTMCell.__init__ (from tensorflow.python.ops.rnn_cell_impl) is deprecated and will be removed in a future version.\n",
            "Instructions for updating:\n",
            "This class is equivalent as tf.keras.layers.LSTMCell, and will be replaced by that in Tensorflow 2.0.\n",
            "From /content/drive/My Drive/NER_Telugu-master/lstmcrf/model/ner_model.py:139: LSTMCell.__init__ (from tensorflow.python.ops.rnn_cell_impl) is deprecated and will be removed in a future version.\n",
            "Instructions for updating:\n",
            "This class is equivalent as tf.keras.layers.LSTMCell, and will be replaced by that in Tensorflow 2.0.\n",
            "WARNING:tensorflow:From /content/drive/My Drive/NER_Telugu-master/lstmcrf/model/ner_model.py:144: bidirectional_dynamic_rnn (from tensorflow.python.ops.rnn) is deprecated and will be removed in a future version.\n",
            "Instructions for updating:\n",
            "Please use `keras.layers.Bidirectional(keras.layers.RNN(cell))`, which is equivalent to this API\n",
            "From /content/drive/My Drive/NER_Telugu-master/lstmcrf/model/ner_model.py:144: bidirectional_dynamic_rnn (from tensorflow.python.ops.rnn) is deprecated and will be removed in a future version.\n",
            "Instructions for updating:\n",
            "Please use `keras.layers.Bidirectional(keras.layers.RNN(cell))`, which is equivalent to this API\n",
            "WARNING:tensorflow:From /tensorflow-1.15.2/python3.7/tensorflow_core/python/ops/rnn.py:464: dynamic_rnn (from tensorflow.python.ops.rnn) is deprecated and will be removed in a future version.\n",
            "Instructions for updating:\n",
            "Please use `keras.layers.RNN(cell)`, which is equivalent to this API\n",
            "From /tensorflow-1.15.2/python3.7/tensorflow_core/python/ops/rnn.py:464: dynamic_rnn (from tensorflow.python.ops.rnn) is deprecated and will be removed in a future version.\n",
            "Instructions for updating:\n",
            "Please use `keras.layers.RNN(cell)`, which is equivalent to this API\n",
            "WARNING:tensorflow:From /tensorflow-1.15.2/python3.7/tensorflow_core/python/ops/rnn_cell_impl.py:958: Layer.add_variable (from tensorflow.python.keras.engine.base_layer) is deprecated and will be removed in a future version.\n",
            "Instructions for updating:\n",
            "Please use `layer.add_weight` method instead.\n",
            "From /tensorflow-1.15.2/python3.7/tensorflow_core/python/ops/rnn_cell_impl.py:958: Layer.add_variable (from tensorflow.python.keras.engine.base_layer) is deprecated and will be removed in a future version.\n",
            "Instructions for updating:\n",
            "Please use `layer.add_weight` method instead.\n",
            "WARNING:tensorflow:From /tensorflow-1.15.2/python3.7/tensorflow_core/python/ops/rnn_cell_impl.py:962: calling Zeros.__init__ (from tensorflow.python.ops.init_ops) with dtype is deprecated and will be removed in a future version.\n",
            "Instructions for updating:\n",
            "Call initializer instance with the dtype argument instead of passing it to the constructor\n",
            "From /tensorflow-1.15.2/python3.7/tensorflow_core/python/ops/rnn_cell_impl.py:962: calling Zeros.__init__ (from tensorflow.python.ops.init_ops) with dtype is deprecated and will be removed in a future version.\n",
            "Instructions for updating:\n",
            "Call initializer instance with the dtype argument instead of passing it to the constructor\n",
            "WARNING:tensorflow:From /tensorflow-1.15.2/python3.7/tensorflow_core/python/ops/rnn.py:244: where (from tensorflow.python.ops.array_ops) is deprecated and will be removed in a future version.\n",
            "Instructions for updating:\n",
            "Use tf.where in 2.0, which has the same broadcast rule as np.where\n",
            "From /tensorflow-1.15.2/python3.7/tensorflow_core/python/ops/rnn.py:244: where (from tensorflow.python.ops.array_ops) is deprecated and will be removed in a future version.\n",
            "Instructions for updating:\n",
            "Use tf.where in 2.0, which has the same broadcast rule as np.where\n",
            "WARNING:tensorflow:From /content/drive/My Drive/NER_Telugu-master/lstmcrf/model/ner_model.py:155: calling dropout (from tensorflow.python.ops.nn_ops) with keep_prob is deprecated and will be removed in a future version.\n",
            "Instructions for updating:\n",
            "Please use `rate` instead of `keep_prob`. Rate should be set to `rate = 1 - keep_prob`.\n",
            "From /content/drive/My Drive/NER_Telugu-master/lstmcrf/model/ner_model.py:155: calling dropout (from tensorflow.python.ops.nn_ops) with keep_prob is deprecated and will be removed in a future version.\n",
            "Instructions for updating:\n",
            "Please use `rate` instead of `keep_prob`. Rate should be set to `rate = 1 - keep_prob`.\n",
            "WARNING:tensorflow:From /content/drive/My Drive/NER_Telugu-master/lstmcrf/model/ner_model.py:215: The name tf.summary.scalar is deprecated. Please use tf.compat.v1.summary.scalar instead.\n",
            "\n",
            "From /content/drive/My Drive/NER_Telugu-master/lstmcrf/model/ner_model.py:215: The name tf.summary.scalar is deprecated. Please use tf.compat.v1.summary.scalar instead.\n",
            "\n",
            "WARNING:tensorflow:From /content/drive/My Drive/NER_Telugu-master/lstmcrf/model/base_model.py:41: The name tf.variable_scope is deprecated. Please use tf.compat.v1.variable_scope instead.\n",
            "\n",
            "From /content/drive/My Drive/NER_Telugu-master/lstmcrf/model/base_model.py:41: The name tf.variable_scope is deprecated. Please use tf.compat.v1.variable_scope instead.\n",
            "\n",
            "WARNING:tensorflow:From /content/drive/My Drive/NER_Telugu-master/lstmcrf/model/base_model.py:43: The name tf.train.AdamOptimizer is deprecated. Please use tf.compat.v1.train.AdamOptimizer instead.\n",
            "\n",
            "From /content/drive/My Drive/NER_Telugu-master/lstmcrf/model/base_model.py:43: The name tf.train.AdamOptimizer is deprecated. Please use tf.compat.v1.train.AdamOptimizer instead.\n",
            "\n",
            "Initializing tf session\n",
            "WARNING:tensorflow:From /content/drive/My Drive/NER_Telugu-master/lstmcrf/model/base_model.py:64: The name tf.Session is deprecated. Please use tf.compat.v1.Session instead.\n",
            "\n",
            "From /content/drive/My Drive/NER_Telugu-master/lstmcrf/model/base_model.py:64: The name tf.Session is deprecated. Please use tf.compat.v1.Session instead.\n",
            "\n",
            "2021-06-04 10:44:27.955209: I tensorflow/stream_executor/platform/default/dso_loader.cc:44] Successfully opened dynamic library libcuda.so.1\n",
            "2021-06-04 10:44:27.966480: E tensorflow/stream_executor/cuda/cuda_driver.cc:318] failed call to cuInit: CUDA_ERROR_NO_DEVICE: no CUDA-capable device is detected\n",
            "2021-06-04 10:44:27.966548: I tensorflow/stream_executor/cuda/cuda_diagnostics.cc:156] kernel driver does not appear to be running on this host (b040857dc0a7): /proc/driver/nvidia/version does not exist\n",
            "2021-06-04 10:44:27.979981: I tensorflow/core/platform/profile_utils/cpu_utils.cc:94] CPU Frequency: 2200150000 Hz\n",
            "2021-06-04 10:44:27.980343: I tensorflow/compiler/xla/service/service.cc:168] XLA service 0x5608691f8d80 initialized for platform Host (this does not guarantee that XLA will be used). Devices:\n",
            "2021-06-04 10:44:27.980384: I tensorflow/compiler/xla/service/service.cc:176]   StreamExecutor device (0): Host, Default Version\n",
            "WARNING:tensorflow:From /content/drive/My Drive/NER_Telugu-master/lstmcrf/model/base_model.py:65: The name tf.global_variables_initializer is deprecated. Please use tf.compat.v1.global_variables_initializer instead.\n",
            "\n",
            "From /content/drive/My Drive/NER_Telugu-master/lstmcrf/model/base_model.py:65: The name tf.global_variables_initializer is deprecated. Please use tf.compat.v1.global_variables_initializer instead.\n",
            "\n",
            "WARNING:tensorflow:From /content/drive/My Drive/NER_Telugu-master/lstmcrf/model/base_model.py:66: The name tf.train.Saver is deprecated. Please use tf.compat.v1.train.Saver instead.\n",
            "\n",
            "From /content/drive/My Drive/NER_Telugu-master/lstmcrf/model/base_model.py:66: The name tf.train.Saver is deprecated. Please use tf.compat.v1.train.Saver instead.\n",
            "\n",
            "Reloading the latest trained model...\n",
            "INFO:tensorflow:Restoring parameters from ../data/LSTM-CRF/checkpoints/9-no-dev/model.weights/\n",
            "Restoring parameters from ../data/LSTM-CRF/checkpoints/9-no-dev/model.weights/\n"
          ],
          "name": "stdout"
        }
      ]
    },
    {
      "cell_type": "code",
      "metadata": {
        "colab": {
          "base_uri": "https://localhost:8080/"
        },
        "id": "_QFZMJE6UvR7",
        "outputId": "276b3f5a-3472-445f-9d45-ed993de47505"
      },
      "source": [
        "!perl ../conll_evaluation/conlleval < ../data/LSTM-CRF/predictions/predictions_9-no-dev.txt"
      ],
      "execution_count": null,
      "outputs": [
        {
          "output_type": "stream",
          "text": [
            "processed 9812 tokens with 1293 phrases; found: 1238 phrases; correct: 1103.\n",
            "accuracy:  96.48%; precision:  89.10%; recall:  85.31%; FB1:  87.16\n",
            "              LOC: precision:  88.47%; recall:  88.95%; FB1:  88.71  373\n",
            "             MISC: precision:  95.51%; recall:  93.87%; FB1:  94.68  401\n",
            "              ORG: precision:  74.48%; recall:  67.50%; FB1:  70.82  145\n",
            "           PERSON: precision:  88.40%; recall:  79.66%; FB1:  83.80  319\n"
          ],
          "name": "stdout"
        }
      ]
    },
    {
      "cell_type": "code",
      "metadata": {
        "colab": {
          "base_uri": "https://localhost:8080/"
        },
        "id": "NZrzfV7sVEYO",
        "outputId": "3553d74d-c9e2-4484-93ac-4243471f772c"
      },
      "source": [
        "%cd \"/content/drive/MyDrive/NER_Telugu-master/yamcha\""
      ],
      "execution_count": null,
      "outputs": [
        {
          "output_type": "stream",
          "text": [
            "/content/drive/MyDrive/NER_Telugu-master/yamcha\n"
          ],
          "name": "stdout"
        }
      ]
    },
    {
      "cell_type": "code",
      "metadata": {
        "colab": {
          "base_uri": "https://localhost:8080/"
        },
        "id": "SR515Dp1Vgsx",
        "outputId": "02212e39-cf1f-4dd7-8a11-fa5e5f669e5a"
      },
      "source": [
        "!bash configure"
      ],
      "execution_count": null,
      "outputs": [
        {
          "output_type": "stream",
          "text": [
            "checking for a BSD-compatible install... /usr/bin/install -c\n",
            "checking whether build environment is sane... yes\n",
            "/bin/sh: 0: Can't open /content/drive/My\n",
            "configure: WARNING: `missing' script is too old or missing\n",
            "checking for gawk... no\n",
            "checking for mawk... mawk\n",
            "checking whether make sets $(MAKE)... yes\n",
            "checking for gcc... gcc\n",
            "checking for C compiler default output file name... a.out\n",
            "checking whether the C compiler works... yes\n",
            "checking whether we are cross compiling... no\n",
            "checking for suffix of executables... \n",
            "checking for suffix of object files... o\n",
            "checking whether we are using the GNU C compiler... yes\n",
            "checking whether gcc accepts -g... yes\n",
            "checking for gcc option to accept ANSI C... none needed\n",
            "checking for style of include used by make... GNU\n",
            "checking dependency style of gcc... gcc3\n",
            "checking for g++... g++\n",
            "checking whether we are using the GNU C++ compiler... yes\n",
            "checking whether g++ accepts -g... yes\n",
            "checking dependency style of g++... gcc3\n",
            "checking how to run the C preprocessor... gcc -E\n",
            "checking for egrep... grep -E\n",
            "checking whether gcc needs -traditional... no\n",
            "checking whether make sets $(MAKE)... (cached) yes\n",
            "checking build system type... x86_64-unknown-linux-gnu\n",
            "checking host system type... x86_64-unknown-linux-gnu\n",
            "checking for a sed that does not truncate output... /bin/sed\n",
            "checking for ld used by gcc... /usr/bin/ld\n",
            "checking if the linker (/usr/bin/ld) is GNU ld... yes\n",
            "checking for /usr/bin/ld option to reload object files... -r\n",
            "checking for BSD-compatible nm... /usr/bin/nm -B\n",
            "checking whether ln -s works... yes\n",
            "checking how to recognise dependent libraries... pass_all\n",
            "configure: line 4490: /usr/bin/file: No such file or directory\n",
            "checking for ANSI C header files... yes\n",
            "checking for sys/types.h... yes\n",
            "checking for sys/stat.h... yes\n",
            "checking for stdlib.h... yes\n",
            "checking for string.h... yes\n",
            "checking for memory.h... yes\n",
            "checking for strings.h... yes\n",
            "checking for inttypes.h... yes\n",
            "checking for stdint.h... yes\n",
            "checking for unistd.h... yes\n",
            "checking dlfcn.h usability... yes\n",
            "checking dlfcn.h presence... yes\n",
            "checking for dlfcn.h... yes\n",
            "checking how to run the C++ preprocessor... g++ -E\n",
            "checking for g77... no\n",
            "checking for f77... f77\n",
            "checking whether we are using the GNU Fortran 77 compiler... yes\n",
            "checking whether f77 accepts -g... yes\n",
            "checking the maximum length of command line arguments... expr: syntax error\n",
            "\n",
            "checking command to parse /usr/bin/nm -B output from gcc object... ok\n",
            "checking for objdir... .libs\n",
            "checking for ar... ar\n",
            "checking for ranlib... ranlib\n",
            "checking for strip... strip\n",
            "checking if gcc static flag  works... yes\n",
            "checking if gcc supports -fno-rtti -fno-exceptions... no\n",
            "checking for gcc option to produce PIC... -fPIC\n",
            "checking if gcc PIC flag -fPIC works... yes\n",
            "checking if gcc supports -c -o file.o... yes\n",
            "checking whether the gcc linker (/usr/bin/ld) supports shared libraries... yes\n",
            "checking whether -lc should be explicitly linked in... no\n",
            "checking dynamic linker characteristics... configure: line 8229: /usr/bin/file: No such file or directory\n",
            "GNU/Linux ld.so\n",
            "checking how to hardcode library paths into programs... immediate\n",
            "checking whether stripping libraries is possible... yes\n",
            "checking if libtool supports shared libraries... yes\n",
            "checking whether to build shared libraries... yes\n",
            "checking whether to build static libraries... yes\n",
            "configure: creating libtool\n",
            "appending configuration tag \"CXX\" to libtool\n",
            "checking for ld used by g++... /usr/bin/ld\n",
            "checking if the linker (/usr/bin/ld) is GNU ld... yes\n",
            "checking whether the g++ linker (/usr/bin/ld) supports shared libraries... yes\n",
            "checking for g++ option to produce PIC... -fPIC\n",
            "checking if g++ PIC flag -fPIC works... yes\n",
            "checking if g++ supports -c -o file.o... yes\n",
            "checking whether the g++ linker (/usr/bin/ld) supports shared libraries... yes\n",
            "checking dynamic linker characteristics... configure: line 11948: /usr/bin/file: No such file or directory\n",
            "GNU/Linux ld.so\n",
            "checking how to hardcode library paths into programs... immediate\n",
            "checking whether stripping libraries is possible... yes\n",
            "appending configuration tag \"F77\" to libtool\n",
            "checking if libtool supports shared libraries... yes\n",
            "checking whether to build shared libraries... yes\n",
            "checking whether to build static libraries... yes\n",
            "checking for f77 option to produce PIC... -fPIC\n",
            "checking if f77 PIC flag -fPIC works... yes\n",
            "checking if f77 supports -c -o file.o... yes\n",
            "checking whether the f77 linker (/usr/bin/ld) supports shared libraries... yes\n",
            "checking dynamic linker characteristics... configure: line 15118: /usr/bin/file: No such file or directory\n",
            "GNU/Linux ld.so\n",
            "checking how to hardcode library paths into programs... immediate\n",
            "checking whether stripping libraries is possible... yes\n",
            "checking for library containing strerror... none required\n",
            "checking for ANSI C header files... (cached) yes\n",
            "checking for size_t... yes\n",
            "checking for string.h... (cached) yes\n",
            "checking for stdlib.h... (cached) yes\n",
            "checking for unistd.h... (cached) yes\n",
            "checking fcntl.h usability... yes\n",
            "checking fcntl.h presence... yes\n",
            "checking for fcntl.h... yes\n",
            "checking math.h usability... yes\n",
            "checking math.h presence... yes\n",
            "checking for math.h... yes\n",
            "checking ctype.h usability... yes\n",
            "checking ctype.h presence... yes\n",
            "checking for ctype.h... yes\n",
            "checking for sys/types.h... (cached) yes\n",
            "checking for sys/stat.h... (cached) yes\n",
            "checking sys/mman.h usability... yes\n",
            "checking sys/mman.h presence... yes\n",
            "checking for sys/mman.h... yes\n",
            "checking sys/times.h usability... yes\n",
            "checking sys/times.h presence... yes\n",
            "checking for sys/times.h... yes\n",
            "checking windows.h usability... no\n",
            "checking windows.h presence... no\n",
            "checking for windows.h... no\n",
            "checking for mmap... yes\n",
            "checking for pow in -lm... yes\n",
            "checking for main in -lstdc++... yes\n",
            "checking whether make is GNU Make... yes\n",
            "checking for perl5... no\n",
            "checking for perl... /usr/bin/perl\n",
            "checking for svm_learn... no\n",
            "configure: error: svm_learn (TinySVM or SVM^light) required for training\n"
          ],
          "name": "stdout"
        }
      ]
    },
    {
      "cell_type": "code",
      "metadata": {
        "id": "4obtDTUkVroB"
      },
      "source": [
        ""
      ],
      "execution_count": null,
      "outputs": []
    }
  ]
}